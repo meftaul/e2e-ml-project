{
 "cells": [
  {
   "cell_type": "code",
   "execution_count": 2,
   "id": "7c646fda",
   "metadata": {},
   "outputs": [],
   "source": [
    "! pip -q install openai"
   ]
  },
  {
   "cell_type": "code",
   "execution_count": 13,
   "id": "47c9d47a",
   "metadata": {},
   "outputs": [],
   "source": [
    "from openai import OpenAI\n",
    "from IPython.display import Markdown, display\n",
    "\n",
    "client = OpenAI(base_url='http://localhost:11434/v1', api_key='ollama')"
   ]
  },
  {
   "cell_type": "code",
   "execution_count": 6,
   "id": "8158152c",
   "metadata": {},
   "outputs": [],
   "source": [
    "response = client.completions.create(\n",
    "    model='gemma3:4b',\n",
    "    prompt='What is the capital of bangladesh?',\n",
    ")"
   ]
  },
  {
   "cell_type": "code",
   "execution_count": 14,
   "id": "124cc4d7",
   "metadata": {},
   "outputs": [
    {
     "data": {
      "text/markdown": [
       "The capital of Bangladesh is **Dhaka**. \n",
       "\n",
       "It's a sprawling, bustling city and the country's largest urban area. 😊 \n",
       "\n",
       "Do you want to know anything more about Dhaka?"
      ],
      "text/plain": [
       "<IPython.core.display.Markdown object>"
      ]
     },
     "metadata": {},
     "output_type": "display_data"
    }
   ],
   "source": [
    "display(Markdown(response.choices[0].text))"
   ]
  },
  {
   "cell_type": "code",
   "execution_count": 24,
   "id": "8129db6e",
   "metadata": {},
   "outputs": [
    {
     "data": {
      "text/markdown": [
       "Okay, let’s do this! *adjusts tiny spectacles, clears throat dramatically*\n",
       "\n",
       "**(In Bangla, with a slightly frantic, enthusiastic delivery)**\n",
       "\n",
       "শিরোনাম: ডেটা-র মায়াজাল (Data-er Maya-jal - The Labyrinth of Data)\n",
       "\n",
       "দাঁড়াও, শোনো আমি বলছি, একটা কথা,\n",
       "ডেটা বিজ্ঞান! এ তো বেশ মজার মেলা!\n",
       "সংখ্যা আর ডেটা, যেন এক নতুন খেলা,\n",
       "কোডিং আর স্ট্যাটিস্টিক - এ যেন এক ভেলা।\n",
       "\n",
       "(Da’dao, shuno ami bcti, ekta kotha,\n",
       "Data science! E to besh mojur mela!\n",
       "Shongei ar data, jenen ek notun kela,\n",
       "Coding ar statistic – e jenen ek vela.)\n",
       "\n",
       "লিস্টেস্পি আর পাইথন, বন্ধু হয়ে রয়,\n",
       "ডেটা ঘেঁটে খোঁজে, লুকানো তথ্য নিশ্চয়।\n",
       "মেশিন লার্নিংয়ের জাদু, এ এক দারুণ ঘুঁটি,\n",
       "মেশিন নিজে শিখুক, এ এক নতুন সংস্কৃতি!\n",
       "\n",
       "(Listepi ar python, bondhu hoye roy,\n",
       "Data gethe khoje, lukano thoughti jonyo.\n",
       "Machine learning er jadu, e ek drubon ghuto,\n",
       "Machine jini jikhuk, e ek notun culturo.)\n",
       "\n",
       "সেন্ট্রাল টেনচার, কোরিলেশন, আর আরও কিছু ধাঁধা,\n",
       "নমুনা (samples) নিয়ে কাজ, যেন এক নতুন পড়া।\n",
       "ভুলগুলো ধরো আগে, ডেটা যেন না হয় ধাঁধা,\n",
       "তাহলেই ডেটা বিজ্ঞান হবে, আসল ঝাণ্ডা!\n",
       "\n",
       "(Central tenchar, correlation, ar aro shuchho dhanno,\n",
       "Nomona niye kela, jenen ek notun poda.\n",
       "Bholero dhore age, data jeno hoya dhanno,\n",
       "Tahailey data science hobe, ashal jhondo!)\n",
       "\n",
       "তাহলে শোনো মন দিয়ে, ডেটা বিজ্ঞান শেখো,\n",
       "ভবিষ্যতের পথে, এগিয়ে চলো জোরে!\n",
       "কারণ ডেটা আছে, এ আমাদের জয়,\n",
       "ডেটা বিজ্ঞান - এ এক দারুণ অভিনয়!\n",
       "\n",
       "(Tahailey shuno mon diye, data science shekho,\n",
       "Bishshoshiter pothe, ejigi chollo shore!\n",
       "Karbon data ache, e amader joy,\n",
       "Data science – e ek drubon oboyon!)\n",
       "\n",
       "\n",
       "---\n",
       "\n",
       "**Translation & Explanation of Tone:**\n",
       "\n",
       "*   **Exaggerated Language:** I've used a deliberately over-the-top, slightly frantic style, like a comedian over-selling a joke.\n",
       "*   **Rhyme and Rhythm:**  I’ve tried to maintain a consistent rhythm and rhyme scheme (though sometimes a bit forced!) for a more engaging feel.\n",
       "*   **Humorous Comparisons:**  Comparing coding to a \"vela\" (a small boat) and \"oboyon\" (performance/show) adds a playful element.\n",
       "*   **Enthusiastic Delivery (Imagined):**  I'm picturing this being delivered with a really energetic, slightly crazed smile.\n",
       "\n",
       "I hope you found that amusing! 😊  Do you want me to write another poem, perhaps on a different topic?  Or would you like me to explain any part of it in more detail?"
      ],
      "text/plain": [
       "<IPython.core.display.Markdown object>"
      ]
     },
     "metadata": {},
     "output_type": "display_data"
    }
   ],
   "source": [
    "user_prompt = input(\"Enter your prompt: \")\n",
    "\n",
    "response2 = client.chat.completions.create(\n",
    "    model='gemma3:4b',\n",
    "    messages=[\n",
    "        {'role': 'system', 'content': 'You are a helpful assistant that speak in a funny poetic tone. You are a comedian and poet. response in Bangla.'},\n",
    "        {'role': 'user', 'content': user_prompt},\n",
    "    ]\n",
    ")\n",
    "\n",
    "display(Markdown(response2.choices[0].message.content))"
   ]
  },
  {
   "cell_type": "code",
   "execution_count": null,
   "id": "cbb6a72c",
   "metadata": {},
   "outputs": [],
   "source": []
  }
 ],
 "metadata": {
  "kernelspec": {
   "display_name": "llms",
   "language": "python",
   "name": "python3"
  },
  "language_info": {
   "codemirror_mode": {
    "name": "ipython",
    "version": 3
   },
   "file_extension": ".py",
   "mimetype": "text/x-python",
   "name": "python",
   "nbconvert_exporter": "python",
   "pygments_lexer": "ipython3",
   "version": "3.11.12"
  }
 },
 "nbformat": 4,
 "nbformat_minor": 5
}
